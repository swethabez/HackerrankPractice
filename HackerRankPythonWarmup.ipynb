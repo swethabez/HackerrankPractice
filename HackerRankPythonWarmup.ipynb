{
 "cells": [
  {
   "cell_type": "markdown",
   "metadata": {},
   "source": [
    "Python warm up challenge - hacker rank\n",
    "\n",
    "Alex works at a clothing store. There is a large pile of socks that must be paired by color for sale. Given an array of integers representing the color of each sock, determine how many pairs of socks with matching colors there are.\n",
    "\n",
    "For example, there are 7 socks with colors [1,2,1,2,1,3,2]. There is one pair of color 1 and one of color 2. There are three odd socks left, one of each color. The number of pairs is 2. \n",
    "\n",
    "Function Description\n",
    "Complete the sockMerchant function in the editor below. It must return an integer representing the number of matching pairs of socks that are available.\n",
    "\n",
    "sockMerchant has the following parameter(s):\n",
    "\n",
    "n: the number of socks in the pile \n",
    "ar: the colors of each sock\n",
    "\n",
    "Output Format: Return the total number of matching pairs of socks that Alex can sell."
   ]
  },
  {
   "cell_type": "code",
   "execution_count": null,
   "metadata": {},
   "outputs": [],
   "source": [
    "import numpy as np\n",
    "\n",
    "ar=list(map(int,input().strip().split(' ')))\n",
    "n=len(ar)\n",
    "pairs=[]\n",
    "ar.sort()\n",
    "col=np.unique(ar)\n",
    "\n",
    "for i in col:\n",
    "    pairs.append(ar.count(i))\n",
    "\n",
    "socks= [j//2 for j in pairs]\n",
    "\n",
    "print(sum(socks))"
   ]
  },
  {
   "cell_type": "markdown",
   "metadata": {},
   "source": [
    "#Grading Students\n",
    "Function Description\n",
    "Complete the function gradingStudents in the editor below.\n",
    "gradingStudents has the following parameter(s):\n",
    "int grades[n]: the grades before rounding\n",
    "Returns\n",
    "int[n]: the grades after rounding as appropriate"
   ]
  },
  {
   "cell_type": "code",
   "execution_count": null,
   "metadata": {},
   "outputs": [],
   "source": [
    "scores=list(map(int,input().strip().split(' ')))\n",
    "students=len(scores)\n",
    "pairs=[]\n",
    "for i in scores:\n",
    "    if i < 38:\n",
    "        pairs.append(i)\n",
    "    elif i%5 ==3:\n",
    "        pairs.append(i+2)\n",
    "    elif i%5 ==4:\n",
    "        pairs.append(i+1)\n",
    "    elif i%5<=2:\n",
    "        pairs.append(i)\n",
    "print(*pairs,sep=\"\\n\")\n",
    "   "
   ]
  },
  {
   "cell_type": "code",
   "execution_count": null,
   "metadata": {},
   "outputs": [],
   "source": [
    "#Apple and Orange\n",
    "\n",
    "house=list(map(int,input().strip().split(' ')))\n",
    "aloc=int(input())\n",
    "oloc=int(input())\n",
    "\n",
    "apples=list(map(int,input().strip().split(' ')))\n",
    "oranges=list(map(int,input().strip().split(' ')))\n",
    "\n",
    "new_aloc = map(lambda x:x+aloc, apples)\n",
    "new_oloc = map(lambda x:x+oloc, oranges)\n",
    "\n",
    "a=0\n",
    "o=0\n",
    "for i in new_aloc:\n",
    "    if i in range(house[0],house[1]):\n",
    "        a+=1\n",
    "for i in new_oloc:\n",
    "    if i in range(house[0],house[1]):\n",
    "        o+=1\n",
    "print(i)\n",
    "print(o)"
   ]
  },
  {
   "cell_type": "code",
   "execution_count": null,
   "metadata": {},
   "outputs": [],
   "source": [
    "#number line jumps\n",
    "k1=list(map(int,input().strip().split(' ')))\n",
    "k2=list(map(int,input().strip().split(' ')))\n",
    "\n",
    "print((k1[0] - k2[0]) / (k2[1] - k1[1]))"
   ]
  },
  {
   "cell_type": "code",
   "execution_count": null,
   "metadata": {},
   "outputs": [],
   "source": [
    "#Migratory Birds\n",
    "b=list(map(int,input().strip().split(' ')))\n",
    "pairs=[]\n",
    "m=[]\n",
    "birds= np.unique(b)\n",
    "for i in birds:\n",
    "    pairs.append((i,b.count(i)))\n",
    "m.append(max(pairs, key=lambda x: x[1]))\n",
    "\n",
    "print(min(m,key=lambda k:k[0]))\n"
   ]
  },
  {
   "cell_type": "code",
   "execution_count": null,
   "metadata": {},
   "outputs": [],
   "source": [
    "#cat and mouse\n",
    "\n",
    "def cam(x1,x2,x3):\n",
    "    a=abs(x1-x3)\n",
    "    b=abs(x2-x3)\n",
    "    \n",
    "    return 'mouse c' if a==b else 'cat a' if a<b else 'Cat b'\n",
    "    \n",
    "cam(2,5,4)"
   ]
  },
  {
   "cell_type": "code",
   "execution_count": null,
   "metadata": {},
   "outputs": [],
   "source": [
    "#electronics shop\n",
    "money=int(input())\n",
    "keyboards=list(map(int,input().strip().split(' ')))\n",
    "usb = list(map(int,input().strip().split(' ')))\n",
    "\n",
    "possibile=[]\n",
    "\n",
    "for i in keyboards:\n",
    "    for j in usb:\n",
    "        if i + j  <=money:\n",
    "            possibile.append((i+j))\n",
    "print(max(possibile))"
   ]
  },
  {
   "cell_type": "code",
   "execution_count": null,
   "metadata": {},
   "outputs": [],
   "source": [
    "#climbing leaderboard\n",
    "import pandas as pd\n",
    "\n",
    "leaderboard =list(map(int,input().strip().split(' ')))\n",
    "\n",
    "scores=list(map(int,input().strip().split(' ')))\n",
    "numgames=len(scores)\n",
    "output=[]\n",
    "i=0\n",
    "\n",
    "def insert(list, n):\n",
    "    l=[]\n",
    "    list.sort()\n",
    "    for i in list:\n",
    "        if i>n:\n",
    "            index=list.index(i)\n",
    "            break\n",
    "        else:\n",
    "            index=(len(list)-1)\n",
    "\n",
    "    l=list[:index] + [n] + list[index:]\n",
    "    l.sort(reverse=True)\n",
    "    #print(l)\n",
    "    return l\n",
    "\n",
    "def drank(list,n):\n",
    "    r=[]\n",
    "    df = pd.DataFrame (list,columns=['score'])\n",
    "    df['score_ranked'] = df['score'].rank(ascending=0, method='dense')\n",
    "    #get rank of our player\n",
    "    r=df.loc[df.score == n,'score_ranked'].values[0]\n",
    "    return r\n",
    "\n",
    "while i < numgames:\n",
    "    l1,r1=[],[]\n",
    "    l1=insert(leaderboard, scores[i]) \n",
    "    r1=drank(l1, scores[i])\n",
    "    output.append(r1)\n",
    "    i+=1\n",
    "\n",
    "print(output)"
   ]
  },
  {
   "cell_type": "code",
   "execution_count": null,
   "metadata": {},
   "outputs": [],
   "source": [
    "5 25 50 120"
   ]
  }
 ],
 "metadata": {
  "kernelspec": {
   "display_name": "Python 3",
   "language": "python",
   "name": "python3"
  },
  "language_info": {
   "codemirror_mode": {
    "name": "ipython",
    "version": 3
   },
   "file_extension": ".py",
   "mimetype": "text/x-python",
   "name": "python",
   "nbconvert_exporter": "python",
   "pygments_lexer": "ipython3",
   "version": "3.7.3"
  }
 },
 "nbformat": 4,
 "nbformat_minor": 2
}
